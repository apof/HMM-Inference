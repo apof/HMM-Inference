{
 "cells": [
  {
   "cell_type": "code",
   "execution_count": 3,
   "metadata": {},
   "outputs": [],
   "source": [
    "import numpy as np"
   ]
  },
  {
   "cell_type": "code",
   "execution_count": 4,
   "metadata": {},
   "outputs": [],
   "source": [
    "with open('COMP0080_exams.txt') as f:\n",
    "    content = f.readlines()\n",
    "# you may also want to remove whitespace characters like `\\n` at the end of each line\n",
    "content = [x.strip() for x in content]\n",
    "\n",
    "\n",
    "line1 = content[0].split(\" \")[2:]\n",
    "line2 = content[1].split(\" \")[2:]\n",
    "line3 = content[2].split(\" \")[2:]\n",
    "\n",
    "E = []\n",
    "D = []\n",
    "R = []\n",
    "for i in range(len(line1)):\n",
    "    E.append(int(line1[i]))\n",
    "    D.append(int(line2[i]))\n",
    "    R.append(int(line3[i]))\n",
    "    \n",
    "#print(E)\n",
    "#print(D)\n",
    "#print(R)"
   ]
  },
  {
   "cell_type": "code",
   "execution_count": 5,
   "metadata": {},
   "outputs": [
    {
     "name": "stdout",
     "output_type": "stream",
     "text": [
      "[array([[0.225, 0.175],\n",
      "       [0.175, 0.025]]), array([[0.025, 0.075],\n",
      "       [0.075, 0.225]])]\n"
     ]
    }
   ],
   "source": [
    "## model1 joint\n",
    "M1_cond_PR1 = np.array([[0.1,0.3],[0.3,0.9]])\n",
    "M1_cond_PR0 = 1 - M1_cond_PR1\n",
    "\n",
    "pe = 0.5\n",
    "pd = 0.5\n",
    "\n",
    "M1_joint_PR1 = pe*pd*M1_cond_PR1\n",
    "M1_joint_PR0 = pe*pd*M1_cond_PR0\n",
    "\n",
    "model_1_joint = [M1_joint_PR0,M1_joint_PR1]\n",
    "\n",
    "print(model_1_joint)"
   ]
  },
  {
   "cell_type": "code",
   "execution_count": 6,
   "metadata": {},
   "outputs": [
    {
     "name": "stdout",
     "output_type": "stream",
     "text": [
      "[array([0.4, 0.2]), array([0.1, 0.3])]\n"
     ]
    }
   ],
   "source": [
    "M2_cond_PR1 = np.array([0.2,0.6])\n",
    "M2_cond_PR0 = 1 - M2_cond_PR1\n",
    "\n",
    "pe = 0.5\n",
    "\n",
    "M2_joint_PR1 = pe*M2_cond_PR1\n",
    "M2_joint_PR0 = pe*M2_cond_PR0\n",
    "\n",
    "model2_joint = [M2_joint_PR0,M2_joint_PR1]\n",
    "\n",
    "print(model2_joint)"
   ]
  },
  {
   "cell_type": "code",
   "execution_count": 12,
   "metadata": {},
   "outputs": [],
   "source": [
    "prob_D_M1 = 1\n",
    "prob_D_M2 = 1\n",
    "for i in range(len(E)):\n",
    "    #print(i)\n",
    "    if(i == 9):\n",
    "        break\n",
    "    r = R[i]\n",
    "    e = E[i]\n",
    "    d = D[i]\n",
    "    prob_D_M2 = prob_D_M2*model2_joint[r][e]\n",
    "    prob_D_M1 = prob_D_M1*model_1_joint[r][e][d]"
   ]
  },
  {
   "cell_type": "code",
   "execution_count": 13,
   "metadata": {},
   "outputs": [
    {
     "name": "stdout",
     "output_type": "stream",
     "text": [
      "1.1520000000000006e-06\n",
      "6.676975250244141e-09\n"
     ]
    }
   ],
   "source": [
    "print(prob_D_M2)\n",
    "print(prob_D_M1)"
   ]
  },
  {
   "cell_type": "code",
   "execution_count": 14,
   "metadata": {},
   "outputs": [
    {
     "name": "stdout",
     "output_type": "stream",
     "text": [
      "5.793384876251223e-07\n"
     ]
    }
   ],
   "source": [
    "PM1 = 0.5\n",
    "PM2 = 0.5\n",
    "PData = prob_D_M1*PM1 + prob_D_M2*PM2\n",
    "print(PData)"
   ]
  },
  {
   "cell_type": "markdown",
   "metadata": {},
   "source": [
    "## After all results"
   ]
  },
  {
   "cell_type": "code",
   "execution_count": 10,
   "metadata": {},
   "outputs": [
    {
     "name": "stdout",
     "output_type": "stream",
     "text": [
      "4.943274818749864e-25\n"
     ]
    }
   ],
   "source": [
    "posterior_M1 = (prob_D_M1*PM1)/PData\n",
    "print(posterior_M1)"
   ]
  },
  {
   "cell_type": "code",
   "execution_count": 11,
   "metadata": {},
   "outputs": [
    {
     "name": "stdout",
     "output_type": "stream",
     "text": [
      "1.0\n"
     ]
    }
   ],
   "source": [
    "posterior_M2 = (prob_D_M2*PM2)/PData\n",
    "print(posterior_M2)"
   ]
  },
  {
   "cell_type": "markdown",
   "metadata": {},
   "source": [
    "## After 10 results"
   ]
  },
  {
   "cell_type": "code",
   "execution_count": 15,
   "metadata": {},
   "outputs": [
    {
     "name": "stdout",
     "output_type": "stream",
     "text": [
      "0.005762585597942071\n"
     ]
    }
   ],
   "source": [
    "posterior_M1 = (prob_D_M1*PM1)/PData\n",
    "print(posterior_M1)"
   ]
  },
  {
   "cell_type": "code",
   "execution_count": 16,
   "metadata": {},
   "outputs": [
    {
     "name": "stdout",
     "output_type": "stream",
     "text": [
      "0.9942374144020579\n"
     ]
    }
   ],
   "source": [
    "posterior_M2 = (prob_D_M2*PM2)/PData\n",
    "print(posterior_M2)"
   ]
  },
  {
   "cell_type": "code",
   "execution_count": null,
   "metadata": {},
   "outputs": [],
   "source": []
  }
 ],
 "metadata": {
  "kernelspec": {
   "display_name": "Python 3",
   "language": "python",
   "name": "python3"
  },
  "language_info": {
   "codemirror_mode": {
    "name": "ipython",
    "version": 3
   },
   "file_extension": ".py",
   "mimetype": "text/x-python",
   "name": "python",
   "nbconvert_exporter": "python",
   "pygments_lexer": "ipython3",
   "version": "3.7.3"
  }
 },
 "nbformat": 4,
 "nbformat_minor": 4
}
