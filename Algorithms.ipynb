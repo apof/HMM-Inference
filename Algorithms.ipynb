{
 "cells": [
  {
   "cell_type": "code",
   "execution_count": 1,
   "metadata": {},
   "outputs": [],
   "source": [
    "import numpy as np"
   ]
  },
  {
   "cell_type": "code",
   "execution_count": 2,
   "metadata": {},
   "outputs": [],
   "source": [
    "transition_file = 'transitionDists.json'\n",
    "emission_file = 'emissionDists.json'"
   ]
  },
  {
   "cell_type": "code",
   "execution_count": 3,
   "metadata": {},
   "outputs": [],
   "source": [
    "import json\n",
    "with open(transition_file) as f:\n",
    "    transitionDists = json.load(f)\n",
    "with open(emission_file) as f:\n",
    "    emissionDists = json.load(f)"
   ]
  },
  {
   "cell_type": "code",
   "execution_count": 4,
   "metadata": {},
   "outputs": [],
   "source": [
    "states = list(transitionDists.keys())\n",
    "end_tag_dict = {}\n",
    "for st in states:\n",
    "    end_tag_dict[st] = np.NINF\n",
    "end_tag_dict['<DUMMY_END_TAG>'] = np.NINF\n",
    "transitionDists['<DUMMY_END_TAG>'] = end_tag_dict"
   ]
  },
  {
   "cell_type": "code",
   "execution_count": 5,
   "metadata": {},
   "outputs": [],
   "source": [
    "def print_dict(d):\n",
    "    for key in d:\n",
    "        print(key)\n",
    "        print(d.get(key))\n",
    "        print(\"----\")"
   ]
  },
  {
   "cell_type": "code",
   "execution_count": 6,
   "metadata": {},
   "outputs": [],
   "source": [
    "#print_dict(transitionDists)\n",
    "#print_dict(emissionDists)"
   ]
  },
  {
   "cell_type": "code",
   "execution_count": 7,
   "metadata": {},
   "outputs": [],
   "source": [
    "def inverse_emission(emissionDists,transitionDists):\n",
    "    states = list(transitionDists.keys())\n",
    "    ## fid all the unique observation tokens\n",
    "    new_dict = {}\n",
    "    for tag_key in emissionDists:\n",
    "        for token_key in emissionDists.get(tag_key):\n",
    "            if(new_dict.get(token_key) == None):\n",
    "                new_dict[token_key] = {}\n",
    "            new_dict[token_key][tag_key] = emissionDists.get(tag_key).get(token_key)\n",
    "            \n",
    "    for token_key in new_dict:\n",
    "        emission_prob_dict = new_dict.get(token_key)\n",
    "        for st in states:\n",
    "            if(emission_prob_dict.get(st) == None):\n",
    "                emission_prob_dict[st] = -10000000000\n",
    "            \n",
    "    return new_dict"
   ]
  },
  {
   "cell_type": "code",
   "execution_count": 8,
   "metadata": {},
   "outputs": [],
   "source": [
    "def get_emission_vector(transitionDists,inverese_emission_dict,token):\n",
    "    states = list(transitionDists.keys())\n",
    "    #print(states)\n",
    "    emission_dict = inverese_emission_dict.get(token)\n",
    "    emission_list = []\n",
    "    for st in states:\n",
    "        emission_list.append(emission_dict.get(st))\n",
    "    return np.array(emission_list)"
   ]
  },
  {
   "cell_type": "code",
   "execution_count": 9,
   "metadata": {},
   "outputs": [],
   "source": [
    "def get_transition_vector(transitionDists,tag,flag):\n",
    "    \n",
    "    states = list(transitionDists.keys())\n",
    "    \n",
    "    tag_index= None\n",
    "    for i,st in enumerate(states):\n",
    "        if(st == tag):\n",
    "            tag_index = i\n",
    "                        \n",
    "    transition_matrix = []\n",
    "    for st in states:\n",
    "        trans = transitionDists.get(st)\n",
    "        transition_list = []\n",
    "        for s in states:\n",
    "            transition_list.append(trans.get(s))\n",
    "        transition_matrix.append(np.array(transition_list))\n",
    "    \n",
    "    transition_matrix = np.array(transition_matrix)\n",
    "        \n",
    "    if(flag == 'curr_fixed'):\n",
    "        return transition_matrix[tag_index]\n",
    "    elif(flag == 'curr_not_fixed'):\n",
    "        return transition_matrix[:,tag_index]"
   ]
  },
  {
   "cell_type": "code",
   "execution_count": 10,
   "metadata": {},
   "outputs": [
    {
     "name": "stdout",
     "output_type": "stream",
     "text": [
      "19673\n",
      "{'PROPN': -8.369546048853167, 'NOUN': -10.384374920258649, '<DUMMY_START_TAG>': -10000000000, 'PUNCT': -10000000000, 'ADJ': -10000000000, 'VERB': -10000000000, 'DET': -10000000000, 'ADP': -10000000000, 'AUX': -10000000000, 'PRON': -10000000000, 'PART': -10000000000, 'SCONJ': -10000000000, 'NUM': -10000000000, 'ADV': -10000000000, 'CCONJ': -10000000000, 'X': -10000000000, 'INTJ': -10000000000, 'SYM': -10000000000, '<DUMMY_END_TAG>': -10000000000}\n",
      "19\n"
     ]
    }
   ],
   "source": [
    "inverese_emission_dict = inverse_emission(emissionDists,transitionDists)\n",
    "print(len(inverese_emission_dict))\n",
    "print(inverese_emission_dict.get('Professor'))\n",
    "print(len(inverese_emission_dict.get('Professor')))"
   ]
  },
  {
   "cell_type": "code",
   "execution_count": 11,
   "metadata": {},
   "outputs": [
    {
     "data": {
      "text/plain": [
       "{'ADJ': -7.360017580918386,\n",
       " '<DUMMY_START_TAG>': -10000000000,\n",
       " 'PROPN': -10000000000,\n",
       " 'PUNCT': -10000000000,\n",
       " 'NOUN': -10000000000,\n",
       " 'VERB': -10000000000,\n",
       " 'DET': -10000000000,\n",
       " 'ADP': -10000000000,\n",
       " 'AUX': -10000000000,\n",
       " 'PRON': -10000000000,\n",
       " 'PART': -10000000000,\n",
       " 'SCONJ': -10000000000,\n",
       " 'NUM': -10000000000,\n",
       " 'ADV': -10000000000,\n",
       " 'CCONJ': -10000000000,\n",
       " 'X': -10000000000,\n",
       " 'INTJ': -10000000000,\n",
       " 'SYM': -10000000000,\n",
       " '<DUMMY_END_TAG>': -10000000000}"
      ]
     },
     "execution_count": 11,
     "metadata": {},
     "output_type": "execute_result"
    }
   ],
   "source": [
    "inverese_emission_dict.get('stupid')"
   ]
  },
  {
   "cell_type": "code",
   "execution_count": 12,
   "metadata": {},
   "outputs": [],
   "source": [
    "#print_dict(inverese_emission_dict)"
   ]
  },
  {
   "cell_type": "code",
   "execution_count": 13,
   "metadata": {},
   "outputs": [
    {
     "name": "stdout",
     "output_type": "stream",
     "text": [
      "[-1.00000000e+10 -8.36954605e+00 -1.00000000e+10 -1.00000000e+10\n",
      " -1.03843749e+01 -1.00000000e+10 -1.00000000e+10 -1.00000000e+10\n",
      " -1.00000000e+10 -1.00000000e+10 -1.00000000e+10 -1.00000000e+10\n",
      " -1.00000000e+10 -1.00000000e+10 -1.00000000e+10 -1.00000000e+10\n",
      " -1.00000000e+10 -1.00000000e+10 -1.00000000e+10]\n"
     ]
    }
   ],
   "source": [
    "emission_vector = get_emission_vector(transitionDists,inverese_emission_dict,'Professor')\n",
    "print(emission_vector)"
   ]
  },
  {
   "cell_type": "code",
   "execution_count": 14,
   "metadata": {},
   "outputs": [
    {
     "name": "stdout",
     "output_type": "stream",
     "text": [
      "[-11.73453985  -3.59102244  -1.9946895   -2.95636797  -0.60755631\n",
      "  -4.66892648  -5.31944289  -2.53819699  -5.66843176  -4.29556826\n",
      "  -3.4278208   -3.69184035  -4.90907981  -4.31336232  -3.1074166\n",
      "  -6.9387493   -8.30055264  -6.71726001  -5.51793375]\n"
     ]
    }
   ],
   "source": [
    "transition_vector = get_transition_vector(transitionDists,'ADJ','curr_fixed')\n",
    "print(transition_vector)"
   ]
  },
  {
   "cell_type": "code",
   "execution_count": 15,
   "metadata": {},
   "outputs": [],
   "source": [
    "#observation = ['stupid','Professor','is','refusing','to','cooperate']\n",
    "observation = ['Professor','is','refusing','to','cooperate']"
   ]
  },
  {
   "cell_type": "code",
   "execution_count": 16,
   "metadata": {},
   "outputs": [
    {
     "name": "stdout",
     "output_type": "stream",
     "text": [
      "[-2.94443898 -2.94443898 -2.94443898 -2.94443898 -2.94443898 -2.94443898\n",
      " -2.94443898 -2.94443898 -2.94443898 -2.94443898 -2.94443898 -2.94443898\n",
      " -2.94443898 -2.94443898 -2.94443898 -2.94443898 -2.94443898 -2.94443898\n",
      " -2.94443898]\n"
     ]
    }
   ],
   "source": [
    "start_prob_vector = []\n",
    "for i in  range(len(transitionDists)):\n",
    "    start_prob_vector.append(np.log(1/(len(transitionDists))))\n",
    "start_prob_vector = np.array(start_prob_vector)\n",
    "print(start_prob_vector)"
   ]
  },
  {
   "cell_type": "code",
   "execution_count": 17,
   "metadata": {},
   "outputs": [],
   "source": [
    "## compute P(h_t|v_1-t)\n",
    "def forward_algo(observation,inverese_emission_dict,transitionDists,start_prob_vector):\n",
    "    \n",
    "    states = transitionDists.keys()\n",
    "    a_messages = []\n",
    "    \n",
    "    for i, obs in enumerate(observation):\n",
    "        print(obs)\n",
    "        if(i==0):\n",
    "            ## log(p(v1|h)) + log(p(h))\n",
    "            emission_vector = get_emission_vector(transitionDists,inverese_emission_dict,obs)\n",
    "            a_0 = emission_vector + start_prob_vector\n",
    "            a_messages.append(a_0)\n",
    "        else:\n",
    "            a = np.zeros(len(states))\n",
    "            for j,st in enumerate(states):\n",
    "                emission_vector = get_emission_vector(transitionDists,inverese_emission_dict,obs)\n",
    "                transition_vector = get_transition_vector(transitionDists,st,'curr_fixed')\n",
    "                a += np.exp(emission_vector + transition_vector + np.array(a_messages[-1][j]))\n",
    "            a_messages.append(np.log(a))\n",
    "            \n",
    "    return a_messages    "
   ]
  },
  {
   "cell_type": "code",
   "execution_count": 18,
   "metadata": {},
   "outputs": [
    {
     "name": "stdout",
     "output_type": "stream",
     "text": [
      "Professor\n",
      "is\n",
      "refusing\n",
      "to\n",
      "cooperate\n"
     ]
    },
    {
     "name": "stderr",
     "output_type": "stream",
     "text": [
      "/home/apostolos/.local/lib/python3.6/site-packages/ipykernel_launcher.py:20: RuntimeWarning: divide by zero encountered in log\n"
     ]
    }
   ],
   "source": [
    "a_messages = forward_algo(observation,inverese_emission_dict,transitionDists,start_prob_vector)"
   ]
  },
  {
   "cell_type": "code",
   "execution_count": 19,
   "metadata": {},
   "outputs": [],
   "source": [
    "def filtering(a_messages,i):\n",
    "    numerator = np.exp(a_messages[i])\n",
    "    denominator = np.sum(numerator,axis = 0)\n",
    "    ## return both the proba distr and the likelihood\n",
    "    return numerator/denominator,denominator"
   ]
  },
  {
   "cell_type": "code",
   "execution_count": 20,
   "metadata": {},
   "outputs": [
    {
     "name": "stdout",
     "output_type": "stream",
     "text": [
      "(array([0.        , 0.88234524, 0.        , 0.        , 0.11765476,\n",
      "       0.        , 0.        , 0.        , 0.        , 0.        ,\n",
      "       0.        , 0.        , 0.        , 0.        , 0.        ,\n",
      "       0.        , 0.        , 0.        , 0.        ]), 1.382802592133662e-05)\n",
      "(array([0.00000000e+00, 0.00000000e+00, 0.00000000e+00, 0.00000000e+00,\n",
      "       0.00000000e+00, 7.75985926e-02, 0.00000000e+00, 0.00000000e+00,\n",
      "       9.22125467e-01, 7.89913329e-05, 0.00000000e+00, 0.00000000e+00,\n",
      "       0.00000000e+00, 1.96949493e-04, 0.00000000e+00, 0.00000000e+00,\n",
      "       0.00000000e+00, 0.00000000e+00, 0.00000000e+00]), 1.3847315841952405e-07)\n",
      "(array([0., 0., 0., 0., 0., 1., 0., 0., 0., 0., 0., 0., 0., 0., 0., 0., 0.,\n",
      "       0., 0.]), 5.970722448914806e-12)\n",
      "(array([0.00000000e+00, 0.00000000e+00, 0.00000000e+00, 0.00000000e+00,\n",
      "       7.84658169e-05, 1.31187802e-05, 0.00000000e+00, 3.15440433e-01,\n",
      "       0.00000000e+00, 0.00000000e+00, 6.71576141e-01, 1.21755932e-02,\n",
      "       0.00000000e+00, 7.16248500e-04, 0.00000000e+00, 0.00000000e+00,\n",
      "       0.00000000e+00, 0.00000000e+00, 0.00000000e+00]), 3.45849480208392e-13)\n",
      "(array([0., 0., 0., 0., 0., 1., 0., 0., 0., 0., 0., 0., 0., 0., 0., 0., 0.,\n",
      "       0., 0.]), 7.795206617921278e-18)\n"
     ]
    }
   ],
   "source": [
    "for i in range(len(a_messages)):\n",
    "    print(filtering(a_messages,i))"
   ]
  },
  {
   "cell_type": "code",
   "execution_count": 21,
   "metadata": {},
   "outputs": [],
   "source": [
    "def reverse(text):\n",
    "    result = []\n",
    "    for i in range(len(text),0,-1):\n",
    "        result.append(text[i-1])\n",
    "    return result"
   ]
  },
  {
   "cell_type": "code",
   "execution_count": 22,
   "metadata": {},
   "outputs": [
    {
     "name": "stdout",
     "output_type": "stream",
     "text": [
      "['cooperate', 'to', 'refusing', 'is', 'Professor']\n"
     ]
    }
   ],
   "source": [
    "obs = reverse(observation)\n",
    "print(obs)"
   ]
  },
  {
   "cell_type": "code",
   "execution_count": 23,
   "metadata": {},
   "outputs": [],
   "source": [
    "def backward_algo(observation,inverese_emission_dict,transitionDists,start_prob_vector):\n",
    "    \n",
    "    observation = reverse(observation)\n",
    "\n",
    "    states = transitionDists.keys()\n",
    "    b_messages = []\n",
    "    \n",
    "    b_0 = np.zeros(len(states))\n",
    "    b_messages.append(b_0)\n",
    "    \n",
    "    for i, obs in enumerate(observation):\n",
    "        if(i==len(observation)-1):\n",
    "            break\n",
    "        b = np.zeros(len(states))\n",
    "        emission_vector = get_emission_vector(transitionDists,inverese_emission_dict,obs)\n",
    "        for j,st in enumerate(states):   \n",
    "            transition_vector = get_transition_vector(transitionDists,st,\"curr_not_fixed\")\n",
    "            b += np.exp(emission_vector[j] + transition_vector + np.array(b_messages[-1][j]))\n",
    "        b_messages.append(np.log(b))\n",
    "    \n",
    "    b_messages.reverse()\n",
    "    \n",
    "    return b_messages   "
   ]
  },
  {
   "cell_type": "code",
   "execution_count": 24,
   "metadata": {},
   "outputs": [
    {
     "name": "stderr",
     "output_type": "stream",
     "text": [
      "/home/apostolos/.local/lib/python3.6/site-packages/ipykernel_launcher.py:19: RuntimeWarning: divide by zero encountered in log\n"
     ]
    }
   ],
   "source": [
    "b_messages = backward_algo(observation,inverese_emission_dict,transitionDists,start_prob_vector)"
   ]
  },
  {
   "cell_type": "code",
   "execution_count": 25,
   "metadata": {},
   "outputs": [
    {
     "data": {
      "text/plain": [
       "'for b in b_messages:\\n    print(np.exp(b))'"
      ]
     },
     "execution_count": 25,
     "metadata": {},
     "output_type": "execute_result"
    }
   ],
   "source": [
    "'''for b in b_messages:\n",
    "    print(np.exp(b))'''"
   ]
  },
  {
   "cell_type": "code",
   "execution_count": 26,
   "metadata": {},
   "outputs": [],
   "source": [
    "def smoothing(b_messages,a_messages,i):\n",
    "    num = np.exp(a_messages[i])*np.exp(b_messages[i])\n",
    "    denom = np.sum(num,axis = 0)\n",
    "    return num/denom,denom"
   ]
  },
  {
   "cell_type": "code",
   "execution_count": 27,
   "metadata": {},
   "outputs": [
    {
     "name": "stdout",
     "output_type": "stream",
     "text": [
      "(array([0.        , 0.86710583, 0.        , 0.        , 0.13289417,\n",
      "       0.        , 0.        , 0.        , 0.        , 0.        ,\n",
      "       0.        , 0.        , 0.        , 0.        , 0.        ,\n",
      "       0.        , 0.        , 0.        , 0.        ]), 7.795206617921301e-18)\n",
      "(array([0.00000000e+00, 0.00000000e+00, 0.00000000e+00, 0.00000000e+00,\n",
      "       0.00000000e+00, 3.85403157e-03, 0.00000000e+00, 0.00000000e+00,\n",
      "       9.95963318e-01, 6.61647121e-05, 0.00000000e+00, 0.00000000e+00,\n",
      "       0.00000000e+00, 1.16485651e-04, 0.00000000e+00, 0.00000000e+00,\n",
      "       0.00000000e+00, 0.00000000e+00, 0.00000000e+00]), 7.795206617921312e-18)\n",
      "(array([0., 0., 0., 0., 0., 1., 0., 0., 0., 0., 0., 0., 0., 0., 0., 0., 0.,\n",
      "       0., 0.]), 7.795206617921292e-18)\n",
      "(array([0.00000000e+00, 0.00000000e+00, 0.00000000e+00, 0.00000000e+00,\n",
      "       9.42513831e-06, 4.42289522e-07, 0.00000000e+00, 4.39129904e-03,\n",
      "       0.00000000e+00, 0.00000000e+00, 9.91311475e-01, 3.99979535e-03,\n",
      "       0.00000000e+00, 2.87563037e-04, 0.00000000e+00, 0.00000000e+00,\n",
      "       0.00000000e+00, 0.00000000e+00, 0.00000000e+00]), 7.795206617921298e-18)\n",
      "(array([0., 0., 0., 0., 0., 1., 0., 0., 0., 0., 0., 0., 0., 0., 0., 0., 0.,\n",
      "       0., 0.]), 7.795206617921278e-18)\n"
     ]
    }
   ],
   "source": [
    "for i in range(len(b_messages)):\n",
    "    print(smoothing(b_messages,a_messages,i))"
   ]
  },
  {
   "cell_type": "code",
   "execution_count": 28,
   "metadata": {},
   "outputs": [],
   "source": [
    "def viterbi(observation,inverese_emission_dict,transitionDists,start_prob_vector):\n",
    "    \n",
    "    states = list(transitionDists.keys())\n",
    "    \n",
    "    # length of the observation sequence\n",
    "    T = len(observation)\n",
    "    # number of states\n",
    "    K = len(states)\n",
    "    \n",
    "    T1 = np.zeros((K,T))\n",
    "    T2 = np.zeros((K,T))\n",
    "    \n",
    "    ## initialise the initial prob of T1\n",
    "    for i in range(K):\n",
    "        T1[i,0] = start_prob_vector[i] + get_emission_vector(transitionDists,inverese_emission_dict,observation[0])[i]\n",
    "\n",
    "    \n",
    "    for j in range(1,T):\n",
    "        ## find for every state the optimal way (max) proba to go there (from all the previous states)\n",
    "        for i in range(K):\n",
    "            proba_array = np.zeros(K)\n",
    "            # get the transition to state i from all the k previous states\n",
    "            trans = get_transition_vector(transitionDists,states[i],\"curr_not_fixed\")\n",
    "            for k in range(K):\n",
    "                transition = trans[k]\n",
    "                # get the emission form the current state to the observation\n",
    "                emission = get_emission_vector(transitionDists,inverese_emission_dict,observation[j])[i]\n",
    "                # multiply the emsiion the transition and the prob of being in the previous k-th state\n",
    "                proba_array[k] = T1[k][j-1] + transition + emission\n",
    "            \n",
    "            ## get the max proba of geting to state i\n",
    "            T1[i,j] = np.max(proba_array)\n",
    "            ## store from which previous state did you start to get this transition\n",
    "            T2[i,j] = np.argmax(proba_array)\n",
    "      \n",
    "    max_states = []\n",
    "    indices = []\n",
    "    zt = np.argmax(T1[:,-1])\n",
    "\n",
    "    max_states.append(states[zt])\n",
    "    indices.append(zt)\n",
    "    \n",
    "    for i in range(T-1,0,-1):\n",
    "        zt = T2[zt,i]\n",
    "        zt = int(zt)\n",
    "        indices.append(zt)\n",
    "        max_states.append(states[zt])\n",
    "    \n",
    "    path = reverse(max_states)\n",
    "    reversed_indices = reverse(indices)\n",
    "        \n",
    "    return path, reversed_indices"
   ]
  },
  {
   "cell_type": "code",
   "execution_count": 29,
   "metadata": {},
   "outputs": [
    {
     "data": {
      "text/plain": [
       "(['PROPN', 'AUX', 'VERB', 'PART', 'VERB'], [1, 8, 5, 10, 5])"
      ]
     },
     "execution_count": 29,
     "metadata": {},
     "output_type": "execute_result"
    }
   ],
   "source": [
    "viterbi(observation,inverese_emission_dict,transitionDists,start_prob_vector)"
   ]
  }
 ],
 "metadata": {
  "kernelspec": {
   "display_name": "Python 3",
   "language": "python",
   "name": "python3"
  },
  "language_info": {
   "codemirror_mode": {
    "name": "ipython",
    "version": 3
   },
   "file_extension": ".py",
   "mimetype": "text/x-python",
   "name": "python",
   "nbconvert_exporter": "python",
   "pygments_lexer": "ipython3",
   "version": "3.6.7"
  }
 },
 "nbformat": 4,
 "nbformat_minor": 4
}
