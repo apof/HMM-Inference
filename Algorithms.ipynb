{
 "cells": [
  {
   "cell_type": "code",
   "execution_count": 1,
   "metadata": {},
   "outputs": [],
   "source": [
    "import numpy as np"
   ]
  },
  {
   "cell_type": "code",
   "execution_count": 2,
   "metadata": {},
   "outputs": [],
   "source": [
    "transition_file = 'transitionDists.json'\n",
    "emission_file = 'emissionDists.json'"
   ]
  },
  {
   "cell_type": "code",
   "execution_count": 3,
   "metadata": {},
   "outputs": [],
   "source": [
    "import json\n",
    "with open(transition_file) as f:\n",
    "    transitionDists = json.load(f)\n",
    "with open(emission_file) as f:\n",
    "    emissionDists = json.load(f)"
   ]
  },
  {
   "cell_type": "code",
   "execution_count": 4,
   "metadata": {},
   "outputs": [],
   "source": [
    "states = list(transitionDists.keys())\n",
    "end_tag_dict = {}\n",
    "for st in states:\n",
    "    end_tag_dict[st] = -10000000000\n",
    "end_tag_dict['<DUMMY_END_TAG>'] = -10000000000\n",
    "transitionDists['<DUMMY_END_TAG>'] = end_tag_dict"
   ]
  },
  {
   "cell_type": "code",
   "execution_count": 5,
   "metadata": {},
   "outputs": [],
   "source": [
    "def print_dict(d):\n",
    "    for key in d:\n",
    "        print(key)\n",
    "        print(d.get(key))\n",
    "        print(\"----\")"
   ]
  },
  {
   "cell_type": "code",
   "execution_count": 6,
   "metadata": {},
   "outputs": [
    {
     "name": "stdout",
     "output_type": "stream",
     "text": [
      "<DUMMY_START_TAG>\n",
      "{'PROPN': -2.1467083945212253, 'PUNCT': -3.366100839244863, 'NUM': -3.4304700527731917, 'DET': -2.2989170284577893, 'PRON': -1.2671385359498315, 'SCONJ': -3.3387705114436352, 'ADP': -3.154615842148185, 'NOUN': -2.7661764319384545, 'CCONJ': -3.7668437963380854, 'ADV': -2.531216015772903, 'ADJ': -3.250655123414034, 'VERB': -2.795756777942669, 'X': -3.9435966061433665, 'AUX': -3.561857897181712, 'INTJ': -3.4503662574591725, 'SYM': -4.861328112168165, 'PART': -5.673546490355742, '<DUMMY_START_TAG>': -11.73965458045949, '<DUMMY_END_TAG>': -11.73965458045949}\n",
      "----\n",
      "PROPN\n",
      "{'PUNCT': -1.4141345165822958, 'PROPN': -1.322530396703237, 'ADP': -2.777722398509882, 'AUX': -2.805428490058925, 'ADV': -4.088330814931571, 'NOUN': -2.5678575279065043, 'CCONJ': -2.8118338411929327, 'VERB': -2.7789652522617136, 'SCONJ': -5.176860525060084, 'NUM': -3.47447811903981, 'PART': -3.1677196277455817, 'DET': -5.356177025638267, 'PRON': -4.631613648844943, 'ADJ': -4.8137766139329115, '<DUMMY_END_TAG>': -3.016482221109831, 'X': -7.6604001206365515, 'SYM': -6.822514094431694, 'INTJ': -8.337286780324716, '<DUMMY_START_TAG>': -11.771273984809863}\n",
      "----\n",
      "PUNCT\n",
      "{'PROPN': -2.8549072984556623, 'ADJ': -3.6313180774834843, 'DET': -3.362997810990094, 'ADP': -3.636113483092462, '<DUMMY_END_TAG>': -0.7865959889263325, 'PUNCT': -3.0997241274099405, 'ADV': -3.330605343594954, 'PRON': -2.603853747539418, 'NOUN': -2.6809472099763907, 'SCONJ': -4.093285197615114, 'NUM': -4.090757390404589, 'AUX': -4.191611818028073, 'VERB': -3.0950494741702657, 'CCONJ': -2.804131341297293, 'X': -4.6648039935939725, 'PART': -5.676741133911093, 'INTJ': -5.081311467425068, 'SYM': -5.866240051054824, '<DUMMY_START_TAG>': -12.375009188026505}\n",
      "----\n",
      "ADJ\n",
      "{'NOUN': -0.607556314351093, 'ADP': -2.5381969853695616, 'AUX': -5.668431757598143, 'PUNCT': -1.99468949675559, 'PROPN': -3.5910224419044106, 'ADJ': -2.9563679666684224, 'DET': -5.319442888530296, 'ADV': -4.313362319106497, 'CCONJ': -3.1074165969134575, 'PART': -3.4278208044992002, 'PRON': -4.295568255306029, 'SCONJ': -3.6918403508042537, 'NUM': -4.909079811446584, 'VERB': -4.6689264841041735, 'X': -6.938749302105149, '<DUMMY_END_TAG>': -5.517933746617026, 'SYM': -6.7172600108869664, 'INTJ': -8.300552643216745, '<DUMMY_START_TAG>': -11.73453984770189}\n",
      "----\n",
      "NOUN\n",
      "{'VERB': -2.8513815249301278, 'ADP': -1.58110324569596, 'PUNCT': -1.2366220745662169, 'AUX': -2.665672815362219, 'PART': -3.5845919416011514, 'NOUN': -2.080249782907605, 'ADV': -3.3123375607093792, 'SCONJ': -3.738898057816381, 'PRON': -3.2039904274390354, 'CCONJ': -2.6456197616712473, 'ADJ': -4.487860382752773, 'DET': -4.923038996963164, 'PROPN': -4.793516022423759, '<DUMMY_END_TAG>': -4.119820957878444, 'NUM': -5.095062125409671, 'SYM': -6.484646736266349, 'X': -7.0522984927594115, 'INTJ': -7.456103849449212, '<DUMMY_START_TAG>': -12.759408757508288}\n",
      "----\n",
      "VERB\n",
      "{'PROPN': -3.6577279289447446, 'PRON': -1.7733505245134487, 'PUNCT': -2.5020723708886408, 'SCONJ': -3.1456260236862383, 'ADP': -1.7095637985016339, 'DET': -1.7064549381442518, 'PART': -2.699093255938412, 'NOUN': -2.5637192864041105, 'CCONJ': -4.044795015511123, 'NUM': -4.386626800468533, 'ADJ': -3.142609733444431, 'ADV': -2.6258186037379794, 'VERB': -4.121934246241451, 'AUX': -5.111264288666154, '<DUMMY_END_TAG>': -6.355081053283028, 'X': -7.400282590211429, 'INTJ': -6.906624770067803, 'SYM': -6.406243105462896, '<DUMMY_START_TAG>': -12.349042480589597}\n",
      "----\n",
      "DET\n",
      "{'NOUN': -0.5208249667008518, 'ADJ': -1.5089668855216947, 'PROPN': -2.392983755790472, 'ADV': -4.176378335342903, 'DET': -4.585649156607228, 'NUM': -4.168413339032602, 'VERB': -3.9613443471200736, 'PRON': -5.522314624011953, 'ADP': -4.477342953647025, 'AUX': -6.32750099904903, 'PUNCT': -4.3944368764478705, 'X': -6.9194199012360595, 'SYM': -6.229383143090506, 'PART': -8.287252199516214, 'CCONJ': -7.385703749379263, 'SCONJ': -9.602928993422152, '<DUMMY_START_TAG>': -12.000824266220523, 'INTJ': -12.000824266220523, '<DUMMY_END_TAG>': -12.000824266220523}\n",
      "----\n",
      "ADP\n",
      "{'DET': -1.0204904791039666, 'PROPN': -1.9112147354036189, 'NOUN': -1.8110071767999394, 'NUM': -3.1902876022812467, 'PRON': -2.0234509204698012, 'ADJ': -2.772095671692112, 'PUNCT': -3.7139576088777573, 'ADP': -3.520116208250941, 'ADV': -4.142828666401385, 'VERB': -5.006443625464131, 'CCONJ': -5.1135933030475105, 'SCONJ': -5.787141162815012, 'SYM': -5.681965507126286, 'PART': -7.205363118460342, 'AUX': -7.205363118460342, 'X': -6.5160400343388, '<DUMMY_END_TAG>': -9.682665168863123, 'INTJ': -8.366988374957186, '<DUMMY_START_TAG>': -12.080560441661493}\n",
      "----\n",
      "AUX\n",
      "{'AUX': -2.541321172672898, 'VERB': -1.0424755838703559, 'ADJ': -2.223549655880222, 'ADV': -1.9532376770078, 'PART': -2.1612151548112273, 'ADP': -3.4401413198729704, 'DET': -2.498080976009006, 'NOUN': -4.410506285861425, 'PUNCT': -4.667356135796996, 'PRON': -3.0707478029431496, 'PROPN': -4.920887859886549, 'NUM': -4.676006708773005, 'CCONJ': -6.472119689448257, 'SCONJ': -6.928602571898146, 'X': -7.213533610978037, 'SYM': -7.213533610978037, '<DUMMY_END_TAG>': -8.679870679771465, 'INTJ': -7.7925674847705615, '<DUMMY_START_TAG>': -11.724393117494888}\n",
      "----\n",
      "PRON\n",
      "{'NOUN': -2.0097036578757654, 'AUX': -1.1465488915347626, 'VERB': -1.2966955817525219, 'ADV': -2.958586783500337, 'ADP': -3.274282677965556, 'PROPN': -5.00869411496011, 'CCONJ': -4.472723945600035, 'PRON': -3.5623915233095107, 'SCONJ': -4.969194509318075, 'PUNCT': -2.881748681689965, 'DET': -3.9744233930596815, 'ADJ': -3.2686097085604766, 'PART': -4.4356998186382555, 'NUM': -5.669337443244047, 'SYM': -7.18360700978655, 'INTJ': -6.425256635415842, '<DUMMY_END_TAG>': -7.336576354567977, 'X': -7.737917745492279, '<DUMMY_START_TAG>': -12.132366900164717}\n",
      "----\n",
      "PART\n",
      "{'VERB': -0.3426974666639721, 'PUNCT': -3.970040549000383, 'AUX': -2.6636897885084276, 'NOUN': -2.556295783945401, 'ADV': -3.1907942374238383, 'DET': -4.360865490074093, 'ADJ': -3.3261355852936005, 'PROPN': -4.375030032842744, 'ADP': -5.095655442593817, 'NUM': -5.91025808306241, 'SCONJ': -6.416678413360484, 'PRON': -5.038659961544453, 'PART': -6.533088765204895, 'CCONJ': -5.978778029499166, '<DUMMY_END_TAG>': -7.883015482153911, 'X': -8.529642647078964, '<DUMMY_START_TAG>': -10.927537919877334, 'INTJ': -10.927537919877334, 'SYM': -10.927537919877334}\n",
      "----\n",
      "SCONJ\n",
      "{'PRON': -0.7282886869444585, 'VERB': -1.8452890467523975, 'DET': -2.029226139414779, 'NOUN': -3.3260045084735395, 'AUX': -4.2268467563601355, 'PART': -5.071770728392177, 'PROPN': -2.9207808004872473, 'PUNCT': -4.6403655992753965, 'ADJ': -3.7311076256275246, 'ADV': -3.2834750658833096, 'SCONJ': -3.8219760019098836, 'ADP': -4.401709567866414, 'NUM': -4.992047254560138, 'CCONJ': -5.847037460570498, 'X': -8.158672389084462, 'INTJ': -6.293887784841516, '<DUMMY_START_TAG>': -10.556567661882832, 'SYM': -10.556567661882832, '<DUMMY_END_TAG>': -10.556567661882832}\n",
      "----\n",
      "NUM\n",
      "{'ADJ': -3.3954388495018892, 'ADP': -2.4946290009303747, 'NOUN': -1.023642166709321, 'NUM': -2.4501904096855642, 'PUNCT': -1.367349475954874, 'PROPN': -3.18747328886344, 'VERB': -4.507564857336722, 'CCONJ': -3.5140611634282677, '<DUMMY_END_TAG>': -3.7496665931981883, 'X': -5.887079531471234, 'SYM': -3.402923914388456, 'ADV': -4.825168609653552, 'PRON': -4.578016518287333, 'AUX': -4.44175163876715, 'DET': -5.344336304736938, 'SCONJ': -5.398112701517742, 'PART': -6.085750226266717, 'INTJ': -8.198714459985197, '<DUMMY_START_TAG>': -10.596609732783568}\n",
      "----\n",
      "ADV\n",
      "{'PRON': -2.4126757013215494, 'VERB': -1.6446839364990478, 'ADP': -2.4179801907380547, 'ADJ': -1.990804453478244, 'ADV': -2.2544671804571386, 'PUNCT': -1.7868713795085498, 'DET': -3.0754970025100627, 'PROPN': -4.535694060200485, 'CCONJ': -3.687638624019473, 'AUX': -3.154496663023673, 'NUM': -3.930764674921021, 'SCONJ': -3.3692881649022697, '<DUMMY_END_TAG>': -5.734669059033089, 'PART': -3.9955929531475953, 'NOUN': -4.232875140658922, 'INTJ': -7.055692029799755, 'X': -7.30387165927529, 'SYM': -5.826758624137371, '<DUMMY_START_TAG>': -11.566551536316606}\n",
      "----\n",
      "CCONJ\n",
      "{'PROPN': -2.5250059851893685, 'VERB': -1.7506280828748866, 'PRON': -1.6979667434844437, 'ADV': -2.441118081054518, 'DET': -2.3248770657499502, 'AUX': -2.8839976250129404, 'NUM': -4.299232477834869, 'ADP': -3.6515604353266387, 'ADJ': -2.4706546270807994, 'NOUN': -1.9204794377279033, 'PUNCT': -4.1281335574556195, 'SCONJ': -4.039658558897465, 'PART': -4.427914428026469, 'INTJ': -5.9152783438290015, 'SYM': -7.181949742370501, 'X': -6.317984829498086, '<DUMMY_END_TAG>': -7.679788170609681, 'CCONJ': -7.679788170609681, '<DUMMY_START_TAG>': -11.113775375094828}\n",
      "----\n",
      "X\n",
      "{'<DUMMY_END_TAG>': -1.3868835321732857, 'PUNCT': -1.2545905297999098, 'AUX': -5.114700854013642, 'X': -1.3229640144599986, 'NOUN': -2.4658873494530194, 'PROPN': -4.5356669802211185, 'ADJ': -3.7942530586913383, 'VERB': -4.250735941141227, 'ADP': -3.965122121753505, 'ADV': -4.171329163536817, 'SYM': -5.612539282252822, 'SCONJ': -5.612539282252822, 'PRON': -4.935652622564657, 'CCONJ': -5.114700854013642, 'INTJ': -6.6486312139395976, 'DET': -5.612539282252822, '<DUMMY_START_TAG>': -9.046526486737967, 'PART': -9.046526486737967, 'NUM': -9.046526486737967}\n",
      "----\n",
      "INTJ\n",
      "{'PUNCT': -0.998818769225945, 'VERB': -1.055491156324856, 'PRON': -2.5273969433931947, 'INTJ': -3.6406347212802834, 'NUM': -4.728257888372798, 'ADV': -3.313678813414325, 'CCONJ': -4.444682597873671, 'AUX': -3.8218519157311848, 'PROPN': -3.6974681960434492, 'DET': -4.224011235704849, 'NOUN': -3.963934429344958, '<DUMMY_END_TAG>': -3.757727387561646, 'SYM': -5.405144548060963, 'ADP': -5.125559685841801, 'SCONJ': -5.405144548060963, 'ADJ': -6.441236479747738, '<DUMMY_START_TAG>': -8.839131752546109, 'PART': -8.839131752546109, 'X': -8.839131752546109}\n",
      "----\n",
      "SYM\n",
      "{'NUM': -0.5232169410561509, 'NOUN': -3.062658955000183, 'SCONJ': -5.267026419848783, '<DUMMY_END_TAG>': -1.8540704847485492, 'ADJ': -3.3028509228161758, 'CCONJ': -4.987441557629621, 'ADV': -5.267026419848783, 'PROPN': -3.9914834230215943, 'ADP': -4.438333747292614, 'PUNCT': -3.2162166908432734, 'VERB': -4.30656446966149, 'SYM': -3.1755606852021447, 'X': -5.656491186610506, 'PART': -6.303118351535558, 'DET': -4.769187991609603, 'PRON': -4.987441557629621, 'AUX': -6.303118351535558, 'INTJ': -6.303118351535558, '<DUMMY_START_TAG>': -8.701013624333928}\n",
      "----\n",
      "<DUMMY_END_TAG>\n",
      "{'<DUMMY_START_TAG>': -10000000000, 'PROPN': -10000000000, 'PUNCT': -10000000000, 'ADJ': -10000000000, 'NOUN': -10000000000, 'VERB': -10000000000, 'DET': -10000000000, 'ADP': -10000000000, 'AUX': -10000000000, 'PRON': -10000000000, 'PART': -10000000000, 'SCONJ': -10000000000, 'NUM': -10000000000, 'ADV': -10000000000, 'CCONJ': -10000000000, 'X': -10000000000, 'INTJ': -10000000000, 'SYM': -10000000000, '<DUMMY_END_TAG>': -10000000000}\n",
      "----\n"
     ]
    }
   ],
   "source": [
    "print_dict(transitionDists)"
   ]
  },
  {
   "cell_type": "code",
   "execution_count": 7,
   "metadata": {},
   "outputs": [],
   "source": [
    "def inverse_emission(emissionDists,transitionDists):\n",
    "    states = list(transitionDists.keys())\n",
    "    ## fid all the unique observation tokens\n",
    "    new_dict = {}\n",
    "    for tag_key in emissionDists:\n",
    "        for token_key in emissionDists.get(tag_key):\n",
    "            if(new_dict.get(token_key) == None):\n",
    "                new_dict[token_key] = {}\n",
    "            new_dict[token_key][tag_key] = emissionDists.get(tag_key).get(token_key)\n",
    "            \n",
    "    for token_key in new_dict:\n",
    "        emission_prob_dict = new_dict.get(token_key)\n",
    "        for st in states:\n",
    "            if(emission_prob_dict.get(st) == None):\n",
    "                emission_prob_dict[st] = -10000000000\n",
    "            \n",
    "    return new_dict"
   ]
  },
  {
   "cell_type": "code",
   "execution_count": 8,
   "metadata": {},
   "outputs": [],
   "source": [
    "def get_emission_vector(transitionDists,inverese_emission_dict,token):\n",
    "    states = list(transitionDists.keys())\n",
    "    #print(states)\n",
    "    emission_dict = inverese_emission_dict.get(token)\n",
    "    emission_list = []\n",
    "    for st in states:\n",
    "        emission_list.append(emission_dict.get(st))\n",
    "    return np.array(emission_list)"
   ]
  },
  {
   "cell_type": "code",
   "execution_count": 42,
   "metadata": {},
   "outputs": [],
   "source": [
    "def get_transition_vector(transitionDists,tag,flag):\n",
    "    \n",
    "    states = list(transitionDists.keys())\n",
    "    \n",
    "    tag_index= None\n",
    "    for i,st in enumerate(states):\n",
    "        if(st == tag):\n",
    "            tag_index = i\n",
    "                        \n",
    "    transition_matrix = []\n",
    "    for st in states:\n",
    "        trans = transitionDists.get(st)\n",
    "        transition_list = []\n",
    "        for s in states:\n",
    "            transition_list.append(trans.get(s))\n",
    "        transition_matrix.append(np.array(transition_list))\n",
    "    \n",
    "    transition_matrix = np.array(transition_matrix)\n",
    "        \n",
    "    if(flag == 'curr_fixed'):\n",
    "        return transition_matrix[tag_index]\n",
    "    elif(flag == 'curr_not_fixed'):\n",
    "        return transition_matrix[:,tag_index]"
   ]
  },
  {
   "cell_type": "code",
   "execution_count": 10,
   "metadata": {},
   "outputs": [
    {
     "data": {
      "text/plain": [
       "\"def get_transition_vector(transitionDists,tag):\\n    states = list(transitionDists.keys()) + ['<DUMMY_END_TAG>']\\n    #print(states)\\n    trans = transitionDists.get(tag)\\n    transition_list = []\\n    for st in states:\\n        transition_list.append(trans.get(st))\\n    return np.array(transition_list)\""
      ]
     },
     "execution_count": 10,
     "metadata": {},
     "output_type": "execute_result"
    }
   ],
   "source": [
    "'''def get_transition_vector(transitionDists,tag):\n",
    "    states = list(transitionDists.keys()) + ['<DUMMY_END_TAG>']\n",
    "    #print(states)\n",
    "    trans = transitionDists.get(tag)\n",
    "    transition_list = []\n",
    "    for st in states:\n",
    "        transition_list.append(trans.get(st))\n",
    "    return np.array(transition_list)'''"
   ]
  },
  {
   "cell_type": "code",
   "execution_count": 11,
   "metadata": {},
   "outputs": [
    {
     "name": "stdout",
     "output_type": "stream",
     "text": [
      "19673\n",
      "{'PROPN': -8.369546048853167, 'NOUN': -10.384374920258649, '<DUMMY_START_TAG>': -10000000000, 'PUNCT': -10000000000, 'ADJ': -10000000000, 'VERB': -10000000000, 'DET': -10000000000, 'ADP': -10000000000, 'AUX': -10000000000, 'PRON': -10000000000, 'PART': -10000000000, 'SCONJ': -10000000000, 'NUM': -10000000000, 'ADV': -10000000000, 'CCONJ': -10000000000, 'X': -10000000000, 'INTJ': -10000000000, 'SYM': -10000000000, '<DUMMY_END_TAG>': -10000000000}\n",
      "19\n"
     ]
    }
   ],
   "source": [
    "inverese_emission_dict = inverse_emission(emissionDists,transitionDists)\n",
    "print(len(inverese_emission_dict))\n",
    "print(inverese_emission_dict.get('Professor'))\n",
    "print(len(inverese_emission_dict.get('Professor')))"
   ]
  },
  {
   "cell_type": "code",
   "execution_count": 120,
   "metadata": {},
   "outputs": [],
   "source": [
    "inverese_emission_dict.get('stupid')"
   ]
  },
  {
   "cell_type": "code",
   "execution_count": 12,
   "metadata": {},
   "outputs": [
    {
     "name": "stdout",
     "output_type": "stream",
     "text": [
      "[-1.00000000e+10 -8.36954605e+00 -1.00000000e+10 -1.00000000e+10\n",
      " -1.03843749e+01 -1.00000000e+10 -1.00000000e+10 -1.00000000e+10\n",
      " -1.00000000e+10 -1.00000000e+10 -1.00000000e+10 -1.00000000e+10\n",
      " -1.00000000e+10 -1.00000000e+10 -1.00000000e+10 -1.00000000e+10\n",
      " -1.00000000e+10 -1.00000000e+10 -1.00000000e+10]\n"
     ]
    }
   ],
   "source": [
    "emission_vector = get_emission_vector(transitionDists,inverese_emission_dict,'Professor')\n",
    "print(emission_vector)"
   ]
  },
  {
   "cell_type": "code",
   "execution_count": 13,
   "metadata": {},
   "outputs": [
    {
     "name": "stdout",
     "output_type": "stream",
     "text": [
      "[-11.73453985  -3.59102244  -1.9946895   -2.95636797  -0.60755631\n",
      "  -4.66892648  -5.31944289  -2.53819699  -5.66843176  -4.29556826\n",
      "  -3.4278208   -3.69184035  -4.90907981  -4.31336232  -3.1074166\n",
      "  -6.9387493   -8.30055264  -6.71726001  -5.51793375]\n"
     ]
    }
   ],
   "source": [
    "transition_vector = get_transition_vector(transitionDists,'ADJ','curr_fixed')\n",
    "print(transition_vector)"
   ]
  },
  {
   "cell_type": "code",
   "execution_count": 121,
   "metadata": {},
   "outputs": [],
   "source": [
    "observation = ['stupid','Professor','is','refusing','to','cooperate']"
   ]
  },
  {
   "cell_type": "code",
   "execution_count": 15,
   "metadata": {},
   "outputs": [
    {
     "name": "stdout",
     "output_type": "stream",
     "text": [
      "[-2.94443898 -2.94443898 -2.94443898 -2.94443898 -2.94443898 -2.94443898\n",
      " -2.94443898 -2.94443898 -2.94443898 -2.94443898 -2.94443898 -2.94443898\n",
      " -2.94443898 -2.94443898 -2.94443898 -2.94443898 -2.94443898 -2.94443898\n",
      " -2.94443898]\n"
     ]
    }
   ],
   "source": [
    "start_prob_vector = []\n",
    "for i in  range(len(transitionDists)):\n",
    "    start_prob_vector.append(np.log(1/(len(transitionDists))))\n",
    "start_prob_vector = np.array(start_prob_vector)\n",
    "print(start_prob_vector)"
   ]
  },
  {
   "cell_type": "code",
   "execution_count": 16,
   "metadata": {},
   "outputs": [
    {
     "data": {
      "text/plain": [
       "'inverese_emission_dict = {}\\ntransitionDists = {}\\ninverese_emission_dict[1] = np.log(np.array([0.7,0.4,0.8]))\\ninverese_emission_dict[2] = np.log(np.array([0.3,0.6,0.2]))\\ntransitionDists[1] = np.log(np.array([0.5,0.3,0.2]))\\ntransitionDists[2] = np.log(np.array([0.0000000000000001,0.6,0.4]))\\ntransitionDists[3] = np.log(np.array([0.0000000000000001,0.0000000000000001,1.0]))'"
      ]
     },
     "execution_count": 16,
     "metadata": {},
     "output_type": "execute_result"
    }
   ],
   "source": [
    "'''inverese_emission_dict = {}\n",
    "transitionDists = {}\n",
    "inverese_emission_dict[1] = np.log(np.array([0.7,0.4,0.8]))\n",
    "inverese_emission_dict[2] = np.log(np.array([0.3,0.6,0.2]))\n",
    "transitionDists[1] = np.log(np.array([0.5,0.3,0.2]))\n",
    "transitionDists[2] = np.log(np.array([0.0000000000000001,0.6,0.4]))\n",
    "transitionDists[3] = np.log(np.array([0.0000000000000001,0.0000000000000001,1.0]))'''"
   ]
  },
  {
   "cell_type": "code",
   "execution_count": 17,
   "metadata": {},
   "outputs": [
    {
     "data": {
      "text/plain": [
       "'observation = [1,2,1]'"
      ]
     },
     "execution_count": 17,
     "metadata": {},
     "output_type": "execute_result"
    }
   ],
   "source": [
    "'''observation = [1,2,1]'''"
   ]
  },
  {
   "cell_type": "code",
   "execution_count": 18,
   "metadata": {},
   "outputs": [
    {
     "data": {
      "text/plain": [
       "'start_prob_vector = np.log(np.array([0.9,0.1,0.00000001]))'"
      ]
     },
     "execution_count": 18,
     "metadata": {},
     "output_type": "execute_result"
    }
   ],
   "source": [
    "'''start_prob_vector = np.log(np.array([0.9,0.1,0.00000001]))'''"
   ]
  },
  {
   "cell_type": "code",
   "execution_count": 19,
   "metadata": {},
   "outputs": [],
   "source": [
    "## compute P(h_t|v_1-t)\n",
    "def forward_algo(observation,inverese_emission_dict,transitionDists,start_prob_vector):\n",
    "    \n",
    "    states = transitionDists.keys()\n",
    "    a_messages = []\n",
    "    \n",
    "    for i, obs in enumerate(observation):\n",
    "        print(obs)\n",
    "        if(i==0):\n",
    "            ## log(p(v1|h)) + log(p(h))\n",
    "            emission_vector = get_emission_vector(transitionDists,inverese_emission_dict,obs)\n",
    "            a_0 = emission_vector + start_prob_vector\n",
    "            a_messages.append(a_0)\n",
    "        else:\n",
    "            a = np.zeros(len(states))\n",
    "            for j,st in enumerate(states):\n",
    "                emission_vector = get_emission_vector(transitionDists,inverese_emission_dict,obs)\n",
    "                transition_vector = get_transition_vector(transitionDists,st,'curr_fixed')\n",
    "                a += np.exp(emission_vector + transition_vector + np.array(a_messages[-1][j]))\n",
    "            a_messages.append(np.log(a))\n",
    "            \n",
    "    return a_messages    "
   ]
  },
  {
   "cell_type": "code",
   "execution_count": 20,
   "metadata": {},
   "outputs": [
    {
     "name": "stdout",
     "output_type": "stream",
     "text": [
      "Professor\n",
      "is\n",
      "refusing\n",
      "to\n",
      "cooperate\n"
     ]
    },
    {
     "name": "stderr",
     "output_type": "stream",
     "text": [
      "/home/apostolos/miniconda3/lib/python3.7/site-packages/ipykernel_launcher.py:20: RuntimeWarning: divide by zero encountered in log\n"
     ]
    }
   ],
   "source": [
    "a_messages = forward_algo(observation,inverese_emission_dict,transitionDists,start_prob_vector)"
   ]
  },
  {
   "cell_type": "code",
   "execution_count": 21,
   "metadata": {},
   "outputs": [],
   "source": [
    "def filtering(a_messages,i):\n",
    "    numerator = np.exp(a_messages[i])\n",
    "    denominator = np.sum(numerator,axis = 0)\n",
    "    ## return both the proba distr and the likelihood\n",
    "    return numerator/denominator,denominator"
   ]
  },
  {
   "cell_type": "code",
   "execution_count": 22,
   "metadata": {},
   "outputs": [
    {
     "name": "stdout",
     "output_type": "stream",
     "text": [
      "(array([0.        , 0.88234524, 0.        , 0.        , 0.11765476,\n",
      "       0.        , 0.        , 0.        , 0.        , 0.        ,\n",
      "       0.        , 0.        , 0.        , 0.        , 0.        ,\n",
      "       0.        , 0.        , 0.        , 0.        ]), 1.382802592133662e-05)\n",
      "(array([0.00000000e+00, 0.00000000e+00, 0.00000000e+00, 0.00000000e+00,\n",
      "       0.00000000e+00, 7.75985926e-02, 0.00000000e+00, 0.00000000e+00,\n",
      "       9.22125467e-01, 7.89913329e-05, 0.00000000e+00, 0.00000000e+00,\n",
      "       0.00000000e+00, 1.96949493e-04, 0.00000000e+00, 0.00000000e+00,\n",
      "       0.00000000e+00, 0.00000000e+00, 0.00000000e+00]), 1.3847315841952405e-07)\n",
      "(array([0., 0., 0., 0., 0., 1., 0., 0., 0., 0., 0., 0., 0., 0., 0., 0., 0.,\n",
      "       0., 0.]), 5.970722448914806e-12)\n",
      "(array([0.00000000e+00, 0.00000000e+00, 0.00000000e+00, 0.00000000e+00,\n",
      "       7.84658169e-05, 1.31187802e-05, 0.00000000e+00, 3.15440433e-01,\n",
      "       0.00000000e+00, 0.00000000e+00, 6.71576141e-01, 1.21755932e-02,\n",
      "       0.00000000e+00, 7.16248500e-04, 0.00000000e+00, 0.00000000e+00,\n",
      "       0.00000000e+00, 0.00000000e+00, 0.00000000e+00]), 3.45849480208392e-13)\n",
      "(array([0., 0., 0., 0., 0., 1., 0., 0., 0., 0., 0., 0., 0., 0., 0., 0., 0.,\n",
      "       0., 0.]), 7.795206617921278e-18)\n"
     ]
    }
   ],
   "source": [
    "for i in range(len(a_messages)):\n",
    "    print(filtering(a_messages,i))"
   ]
  },
  {
   "cell_type": "code",
   "execution_count": 23,
   "metadata": {},
   "outputs": [],
   "source": [
    "def reverse(text):\n",
    "    result = []\n",
    "    for i in range(len(text),0,-1):\n",
    "        result.append(text[i-1])\n",
    "    return result"
   ]
  },
  {
   "cell_type": "code",
   "execution_count": 24,
   "metadata": {},
   "outputs": [
    {
     "name": "stdout",
     "output_type": "stream",
     "text": [
      "['cooperate', 'to', 'refusing', 'is', 'Professor']\n"
     ]
    }
   ],
   "source": [
    "obs = reverse(observation)\n",
    "print(obs)"
   ]
  },
  {
   "cell_type": "code",
   "execution_count": 25,
   "metadata": {},
   "outputs": [],
   "source": [
    "def backward_algo(observation,inverese_emission_dict,transitionDists,start_prob_vector):\n",
    "    \n",
    "    observation = reverse(observation)\n",
    "\n",
    "    states = transitionDists.keys()\n",
    "    b_messages = []\n",
    "    \n",
    "    b_0 = np.zeros(len(states))\n",
    "    b_messages.append(b_0)\n",
    "    \n",
    "    for i, obs in enumerate(observation):\n",
    "        if(i==len(observation)-1):\n",
    "            break\n",
    "        b = np.zeros(len(states))\n",
    "        emission_vector = get_emission_vector(transitionDists,inverese_emission_dict,obs)\n",
    "        for j,st in enumerate(states):   \n",
    "            transition_vector = get_transition_vector(transitionDists,st,\"curr_not_fixed\")\n",
    "            b += np.exp(emission_vector[j] + transition_vector + np.array(b_messages[-1][j]))\n",
    "        b_messages.append(np.log(b))\n",
    "    \n",
    "    b_messages.reverse()\n",
    "    \n",
    "    return b_messages   "
   ]
  },
  {
   "cell_type": "code",
   "execution_count": 26,
   "metadata": {},
   "outputs": [
    {
     "name": "stderr",
     "output_type": "stream",
     "text": [
      "/home/apostolos/miniconda3/lib/python3.7/site-packages/ipykernel_launcher.py:19: RuntimeWarning: divide by zero encountered in log\n"
     ]
    }
   ],
   "source": [
    "b_messages = backward_algo(observation,inverese_emission_dict,transitionDists,start_prob_vector)"
   ]
  },
  {
   "cell_type": "code",
   "execution_count": 27,
   "metadata": {},
   "outputs": [
    {
     "name": "stdout",
     "output_type": "stream",
     "text": [
      "[2.62154371e-13 5.53988822e-13 1.39870119e-13 3.19162403e-14\n",
      " 6.36742582e-13 5.62868734e-14 1.70321142e-14 7.43360634e-15\n",
      " 7.31533016e-13 2.90828560e-12 6.60924865e-13 1.40216188e-13\n",
      " 1.07860792e-13 3.96569767e-13 5.16961026e-13 5.53795607e-14\n",
      " 2.12282016e-13 1.72111074e-14 0.00000000e+00]\n",
      "[1.05311309e-11 1.07094577e-11 7.80717377e-12 1.61795987e-12\n",
      " 9.96133376e-12 2.79591173e-12 3.28296886e-12 1.15447867e-12\n",
      " 6.08016493e-11 4.71529662e-11 1.22412322e-10 2.72431865e-11\n",
      " 1.90128057e-12 3.32950442e-11 2.99480561e-11 2.45802101e-12\n",
      " 6.00154088e-11 2.32455362e-12 0.00000000e+00]\n",
      "[7.21844134e-08 8.12764061e-07 6.89497630e-08 6.30178803e-07\n",
      " 5.43495312e-07 1.30557176e-06 5.38635703e-09 1.57062533e-08\n",
      " 2.21808177e-06 2.30278112e-07 2.86285008e-08 1.23911340e-07\n",
      " 4.70360989e-08 3.61507184e-07 2.33156380e-07 3.40461101e-09\n",
      " 3.72647733e-09 3.62560936e-08 0.00000000e+00]\n",
      "[2.86223479e-06 2.91070186e-06 2.12189598e-06 4.39742042e-07\n",
      " 2.70737077e-06 7.59895197e-07 8.92271469e-07 3.13773424e-07\n",
      " 1.65251574e-05 1.28156094e-05 3.32701975e-05 7.40437058e-06\n",
      " 5.16745202e-07 9.04919276e-06 8.13952162e-06 6.68060561e-07\n",
      " 1.63114666e-05 6.31785730e-07 0.00000000e+00]\n",
      "[1. 1. 1. 1. 1. 1. 1. 1. 1. 1. 1. 1. 1. 1. 1. 1. 1. 1. 1.]\n"
     ]
    }
   ],
   "source": [
    "for b in b_messages:\n",
    "    print(np.exp(b))"
   ]
  },
  {
   "cell_type": "code",
   "execution_count": 28,
   "metadata": {},
   "outputs": [],
   "source": [
    "def smoothing(b_messages,a_messages,i):\n",
    "    num = np.exp(a_messages[i])*np.exp(b_messages[i])\n",
    "    denom = np.sum(num,axis = 0)\n",
    "    return num/denom,denom"
   ]
  },
  {
   "cell_type": "code",
   "execution_count": 29,
   "metadata": {},
   "outputs": [
    {
     "name": "stdout",
     "output_type": "stream",
     "text": [
      "(array([0.        , 0.86710583, 0.        , 0.        , 0.13289417,\n",
      "       0.        , 0.        , 0.        , 0.        , 0.        ,\n",
      "       0.        , 0.        , 0.        , 0.        , 0.        ,\n",
      "       0.        , 0.        , 0.        , 0.        ]), 7.795206617921301e-18)\n",
      "(array([0.00000000e+00, 0.00000000e+00, 0.00000000e+00, 0.00000000e+00,\n",
      "       0.00000000e+00, 3.85403157e-03, 0.00000000e+00, 0.00000000e+00,\n",
      "       9.95963318e-01, 6.61647121e-05, 0.00000000e+00, 0.00000000e+00,\n",
      "       0.00000000e+00, 1.16485651e-04, 0.00000000e+00, 0.00000000e+00,\n",
      "       0.00000000e+00, 0.00000000e+00, 0.00000000e+00]), 7.795206617921312e-18)\n",
      "(array([0., 0., 0., 0., 0., 1., 0., 0., 0., 0., 0., 0., 0., 0., 0., 0., 0.,\n",
      "       0., 0.]), 7.795206617921292e-18)\n",
      "(array([0.00000000e+00, 0.00000000e+00, 0.00000000e+00, 0.00000000e+00,\n",
      "       9.42513831e-06, 4.42289522e-07, 0.00000000e+00, 4.39129904e-03,\n",
      "       0.00000000e+00, 0.00000000e+00, 9.91311475e-01, 3.99979535e-03,\n",
      "       0.00000000e+00, 2.87563037e-04, 0.00000000e+00, 0.00000000e+00,\n",
      "       0.00000000e+00, 0.00000000e+00, 0.00000000e+00]), 7.795206617921298e-18)\n",
      "(array([0., 0., 0., 0., 0., 1., 0., 0., 0., 0., 0., 0., 0., 0., 0., 0., 0.,\n",
      "       0., 0.]), 7.795206617921278e-18)\n"
     ]
    }
   ],
   "source": [
    "for i in range(len(b_messages)):\n",
    "    print(smoothing(b_messages,a_messages,i))"
   ]
  },
  {
   "cell_type": "code",
   "execution_count": 122,
   "metadata": {},
   "outputs": [],
   "source": [
    "def viterbi(observation,inverese_emission_dict,transitionDists,start_prob_vector):\n",
    "    \n",
    "    states = list(transitionDists.keys())\n",
    "    print(states)\n",
    "    \n",
    "    # length of the observation sequence\n",
    "    T = len(observation)\n",
    "    # number of states\n",
    "    K = len(states)\n",
    "    \n",
    "    T1 = np.zeros((K,T))\n",
    "    T2 = np.zeros((K,T))\n",
    "    \n",
    "    ## initialise the first code of T1\n",
    "    for i in range(K):\n",
    "        T1[i,0] = start_prob_vector[i] + get_emission_vector(transitionDists,inverese_emission_dict,observation[0])[i]\n",
    "\n",
    "    \n",
    "    for j in range(1,T):\n",
    "        for i in range(K):\n",
    "            proba_array = np.zeros(K)\n",
    "            # get the transition to state i from all the k previous states\n",
    "            trans = get_transition_vector(transitionDists,states[i],\"curr_not_fixed\")\n",
    "            for k in range(K):\n",
    "                transition = trans[k]\n",
    "                # get the emission form the current state to the observation\n",
    "                emission = get_emission_vector(transitionDists,inverese_emission_dict,observation[j])[i]\n",
    "                # multiply the emsiion the transition and the proba of being in the previous k-th state\n",
    "                proba_array[k] = T1[k][j-1] + transition + emission\n",
    "            \n",
    "            #print(proba_array)\n",
    "            #print(np.max(proba_array))\n",
    "            #print(np.argmax(proba_array))\n",
    "            #print(\"----\")\n",
    "            T1[i,j] = np.max(proba_array)\n",
    "            T2[i,j] = np.argmax(proba_array)\n",
    "            \n",
    "    print(T2)\n",
    "    print(T1)\n",
    "            \n",
    "      \n",
    "    max_states = []\n",
    "    indices = []\n",
    "    zt = np.argmax(T1[:,-1])\n",
    "\n",
    "    max_states.append(states[zt])\n",
    "    indices.append(zt)\n",
    "    \n",
    "    for i in range(T-1,0,-1):\n",
    "        zt = T2[zt,i]\n",
    "        zt = int(zt)\n",
    "        indices.append(zt)\n",
    "        max_states.append(states[zt])\n",
    "    \n",
    "    path = reverse(max_states)\n",
    "    reversed_indices = reverse(indices)\n",
    "    \n",
    "        \n",
    "    return path, reversed_indices\n",
    "        \n",
    "    \n",
    "        \n",
    "    "
   ]
  },
  {
   "cell_type": "code",
   "execution_count": 123,
   "metadata": {},
   "outputs": [
    {
     "name": "stdout",
     "output_type": "stream",
     "text": [
      "['<DUMMY_START_TAG>', 'PROPN', 'PUNCT', 'ADJ', 'NOUN', 'VERB', 'DET', 'ADP', 'AUX', 'PRON', 'PART', 'SCONJ', 'NUM', 'ADV', 'CCONJ', 'X', 'INTJ', 'SYM', '<DUMMY_END_TAG>']\n",
      "[[ 0.  3.  1.  8.  5. 10.]\n",
      " [ 0.  3.  1.  8.  5.  7.]\n",
      " [ 0.  3.  4.  8.  5. 10.]\n",
      " [ 0.  3.  4.  8.  5. 10.]\n",
      " [ 0.  3.  4.  8.  5. 10.]\n",
      " [ 0.  3.  4.  8.  5. 10.]\n",
      " [ 0.  3.  4.  8.  5.  7.]\n",
      " [ 0.  3.  4.  8.  5.  7.]\n",
      " [ 0.  3.  4.  8.  5. 10.]\n",
      " [ 0.  3.  4.  8.  5.  7.]\n",
      " [ 0.  3.  4.  8.  5. 10.]\n",
      " [ 0.  3.  4.  5.  5. 10.]\n",
      " [ 0.  3.  1.  8.  5.  7.]\n",
      " [ 0.  3.  4.  8.  5. 10.]\n",
      " [ 0.  3.  4.  8.  5.  7.]\n",
      " [ 0.  3.  4.  8.  5.  7.]\n",
      " [ 0.  3.  4.  8.  5.  7.]\n",
      " [ 0.  3.  4.  8.  5.  7.]\n",
      " [ 0.  3.  1.  8.  5. 10.]]\n",
      "[[-1.00000000e+10 -1.00000000e+10 -1.00000000e+10 -1.00000000e+10\n",
      "  -1.00000000e+10 -1.00000001e+10]\n",
      " [-1.00000000e+10 -2.22650251e+01 -1.00000000e+10 -1.00000000e+10\n",
      "  -1.00000000e+10 -1.00000000e+10]\n",
      " [-1.00000000e+10 -1.00000000e+10 -1.00000000e+10 -1.00000000e+10\n",
      "  -1.00000000e+10 -1.00000000e+10]\n",
      " [-1.03044566e+01 -1.00000000e+10 -1.00000000e+10 -1.00000000e+10\n",
      "  -1.00000000e+10 -1.00000000e+10]\n",
      " [-1.00000000e+10 -2.12963878e+01 -1.00000000e+10 -1.00000000e+10\n",
      "  -4.81349775e+01 -1.00000000e+10]\n",
      " [-1.00000000e+10 -1.00000000e+10 -2.85205333e+01 -3.58335105e+01\n",
      "  -4.99235958e+01 -4.93911064e+01]\n",
      " [-1.00000000e+10 -1.00000000e+10 -1.00000000e+10 -1.00000000e+10\n",
      "  -1.00000000e+10 -1.00000000e+10]\n",
      " [-1.00000000e+10 -1.00000000e+10 -1.00000000e+10 -1.00000000e+10\n",
      "  -3.98359154e+01 -1.00000000e+10]\n",
      " [-1.00000000e+10 -1.00000000e+10 -2.58589757e+01 -1.00000000e+10\n",
      "  -1.00000000e+10 -1.00000000e+10]\n",
      " [-1.00000000e+10 -1.00000000e+10 -3.42355816e+01 -1.00000000e+10\n",
      "  -1.00000000e+10 -1.00000000e+10]\n",
      " [-1.00000000e+10 -1.00000000e+10 -1.00000000e+10 -1.00000000e+10\n",
      "  -3.90802579e+01 -1.00000000e+10]\n",
      " [-1.00000000e+10 -1.00000000e+10 -1.00000000e+10 -1.00000000e+10\n",
      "  -4.30904519e+01 -1.00000000e+10]\n",
      " [-1.00000000e+10 -1.00000000e+10 -1.00000000e+10 -1.00000000e+10\n",
      "  -1.00000000e+10 -1.00000000e+10]\n",
      " [-1.00000000e+10 -1.00000000e+10 -3.37859883e+01 -1.00000000e+10\n",
      "  -4.59236134e+01 -1.00000000e+10]\n",
      " [-1.00000000e+10 -1.00000000e+10 -1.00000000e+10 -1.00000000e+10\n",
      "  -1.00000000e+10 -1.00000000e+10]\n",
      " [-1.00000000e+10 -1.00000000e+10 -1.00000000e+10 -1.00000000e+10\n",
      "  -1.00000000e+10 -1.00000000e+10]\n",
      " [-1.00000000e+10 -1.00000000e+10 -1.00000000e+10 -1.00000000e+10\n",
      "  -1.00000000e+10 -1.00000000e+10]\n",
      " [-1.00000000e+10 -1.00000000e+10 -1.00000000e+10 -1.00000000e+10\n",
      "  -1.00000000e+10 -1.00000000e+10]\n",
      " [-1.00000000e+10 -1.00000000e+10 -1.00000000e+10 -1.00000000e+10\n",
      "  -1.00000000e+10 -1.00000000e+10]]\n"
     ]
    },
    {
     "data": {
      "text/plain": [
       "(['ADJ', 'NOUN', 'AUX', 'VERB', 'PART', 'VERB'], [3, 4, 8, 5, 10, 5])"
      ]
     },
     "execution_count": 123,
     "metadata": {},
     "output_type": "execute_result"
    }
   ],
   "source": [
    "viterbi(observation,inverese_emission_dict,transitionDists,start_prob_vector)"
   ]
  },
  {
   "cell_type": "code",
   "execution_count": null,
   "metadata": {},
   "outputs": [],
   "source": []
  }
 ],
 "metadata": {
  "kernelspec": {
   "display_name": "Python 3",
   "language": "python",
   "name": "python3"
  },
  "language_info": {
   "codemirror_mode": {
    "name": "ipython",
    "version": 3
   },
   "file_extension": ".py",
   "mimetype": "text/x-python",
   "name": "python",
   "nbconvert_exporter": "python",
   "pygments_lexer": "ipython3",
   "version": "3.7.3"
  }
 },
 "nbformat": 4,
 "nbformat_minor": 4
}
