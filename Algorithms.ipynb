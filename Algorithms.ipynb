{
 "cells": [
  {
   "cell_type": "code",
   "execution_count": 76,
   "metadata": {},
   "outputs": [],
   "source": [
    "import numpy as np"
   ]
  },
  {
   "cell_type": "code",
   "execution_count": 77,
   "metadata": {},
   "outputs": [],
   "source": [
    "transition_file = 'transitionDists.json'\n",
    "emission_file = 'emissionDists.json'"
   ]
  },
  {
   "cell_type": "code",
   "execution_count": 78,
   "metadata": {},
   "outputs": [],
   "source": [
    "import json\n",
    "with open(transition_file) as f:\n",
    "    transitionDists = json.load(f)\n",
    "with open(emission_file) as f:\n",
    "    emissionDists = json.load(f)"
   ]
  },
  {
   "cell_type": "code",
   "execution_count": 122,
   "metadata": {},
   "outputs": [],
   "source": [
    "def print_dict(d):\n",
    "    for key in d:\n",
    "        print(key)\n",
    "        print(d.get(key))\n",
    "        print(\"----\")"
   ]
  },
  {
   "cell_type": "code",
   "execution_count": 124,
   "metadata": {},
   "outputs": [],
   "source": [
    "#print_dict(transitionDists)"
   ]
  },
  {
   "cell_type": "code",
   "execution_count": 130,
   "metadata": {},
   "outputs": [],
   "source": [
    "def inverse_emission(emissionDists,transitionDists):\n",
    "    states = list(transitionDists.keys()) + ['<DUMMY_END_TAG>']\n",
    "    ## fid all the unique observation tokens\n",
    "    new_dict = {}\n",
    "    for tag_key in emissionDists:\n",
    "        for token_key in emissionDists.get(tag_key):\n",
    "            if(new_dict.get(token_key) == None):\n",
    "                new_dict[token_key] = {}\n",
    "            new_dict[token_key][tag_key] = emissionDists.get(tag_key).get(token_key)\n",
    "            \n",
    "    for token_key in new_dict:\n",
    "        emission_prob_dict = new_dict.get(token_key)\n",
    "        for st in states:\n",
    "            if(emission_prob_dict.get(st) == None):\n",
    "                emission_prob_dict[st] = -1000\n",
    "            \n",
    "    return new_dict"
   ]
  },
  {
   "cell_type": "code",
   "execution_count": 131,
   "metadata": {},
   "outputs": [],
   "source": [
    "def get_emission_vector(transitionDists,inverese_emission_dict,token):\n",
    "    states = list(transitionDists.keys()) + ['<DUMMY_END_TAG>']\n",
    "    print(states)\n",
    "    emission_dict = inverese_emission_dict.get(token)\n",
    "    emission_list = []\n",
    "    for st in states:\n",
    "        emission_list.append(emission_dict.get(st))\n",
    "    return np.array(emission_list)"
   ]
  },
  {
   "cell_type": "code",
   "execution_count": 132,
   "metadata": {},
   "outputs": [],
   "source": [
    "def get_transition_vector(transitionDists,tag):\n",
    "    states = list(transitionDists.keys()) + ['<DUMMY_END_TAG>']\n",
    "    print(states)\n",
    "    trans = transitionDists.get(tag)\n",
    "    transition_list = []\n",
    "    for st in states:\n",
    "        transition_list.append(trans.get(st))\n",
    "    return np.array(transition_list)"
   ]
  },
  {
   "cell_type": "code",
   "execution_count": 133,
   "metadata": {},
   "outputs": [
    {
     "name": "stdout",
     "output_type": "stream",
     "text": [
      "19673\n",
      "{'DET': -6.169248699333857, 'ADV': -7.643332572111854, 'INTJ': -4.343805421853688, '<DUMMY_START_TAG>': -1000, 'PROPN': -1000, 'PUNCT': -1000, 'ADJ': -1000, 'NOUN': -1000, 'VERB': -1000, 'ADP': -1000, 'AUX': -1000, 'PRON': -1000, 'PART': -1000, 'SCONJ': -1000, 'NUM': -1000, 'CCONJ': -1000, 'X': -1000, 'SYM': -1000, '<DUMMY_END_TAG>': -1000}\n"
     ]
    }
   ],
   "source": [
    "inverese_emission_dict = inverse_emission(emissionDists,transitionDists)\n",
    "print(len(inverese_emission_dict))\n",
    "print(inverese_emission_dict.get('No'))"
   ]
  },
  {
   "cell_type": "code",
   "execution_count": 134,
   "metadata": {},
   "outputs": [
    {
     "name": "stdout",
     "output_type": "stream",
     "text": [
      "['<DUMMY_START_TAG>', 'PROPN', 'PUNCT', 'ADJ', 'NOUN', 'VERB', 'DET', 'ADP', 'AUX', 'PRON', 'PART', 'SCONJ', 'NUM', 'ADV', 'CCONJ', 'X', 'INTJ', 'SYM', '<DUMMY_END_TAG>']\n",
      "[-1000.         -1000.         -1000.         -1000.\n",
      " -1000.         -1000.            -6.1692487  -1000.\n",
      " -1000.         -1000.         -1000.         -1000.\n",
      " -1000.            -7.64333257 -1000.         -1000.\n",
      "    -4.34380542 -1000.         -1000.        ]\n"
     ]
    }
   ],
   "source": [
    "emission_vector = get_emission_vector(transitionDists,inverese_emission_dict,'No')\n",
    "print(emission_vector)"
   ]
  },
  {
   "cell_type": "code",
   "execution_count": 135,
   "metadata": {},
   "outputs": [
    {
     "name": "stdout",
     "output_type": "stream",
     "text": [
      "['<DUMMY_START_TAG>', 'PROPN', 'PUNCT', 'ADJ', 'NOUN', 'VERB', 'DET', 'ADP', 'AUX', 'PRON', 'PART', 'SCONJ', 'NUM', 'ADV', 'CCONJ', 'X', 'INTJ', 'SYM', '<DUMMY_END_TAG>']\n",
      "[-11.73453985  -3.59102244  -1.9946895   -2.95636797  -0.60755631\n",
      "  -4.66892648  -5.31944289  -2.53819699  -5.66843176  -4.29556826\n",
      "  -3.4278208   -3.69184035  -4.90907981  -4.31336232  -3.1074166\n",
      "  -6.9387493   -8.30055264  -6.71726001  -5.51793375]\n"
     ]
    }
   ],
   "source": [
    "transition_vector = get_transition_vector(transitionDists,'ADJ')\n",
    "print(transition_vector)"
   ]
  },
  {
   "cell_type": "code",
   "execution_count": 121,
   "metadata": {},
   "outputs": [],
   "source": [
    "observation = ['Professor','is','refusing','to','cooperate']"
   ]
  },
  {
   "cell_type": "code",
   "execution_count": 90,
   "metadata": {},
   "outputs": [],
   "source": [
    "start_prob_dict = {}\n",
    "index = 0\n",
    "for key in transitionDists:\n",
    "    start_prob_dict[key] = 1/len(transitionDists)\n",
    "    index += 1"
   ]
  },
  {
   "cell_type": "code",
   "execution_count": 87,
   "metadata": {},
   "outputs": [],
   "source": [
    "## compute P(h_t|v_1-t)\n",
    "def forward_algo(observation,emissionDists,transitionDists,start_prob_dict):\n",
    "    \n",
    "    states = transitionDists.keys()    \n",
    "    a_messages = []\n",
    "    \n",
    "    for i, obs in enumerate(observation):\n",
    "        ## if i = 0 (first observation) then compute a1\n",
    "        if(i==0):\n",
    "            a_0 = \n",
    "        \n",
    "                "
   ]
  },
  {
   "cell_type": "code",
   "execution_count": 88,
   "metadata": {},
   "outputs": [],
   "source": [
    "forward_algo(observation,emissionDists,transitionDists,start_prob_dict)"
   ]
  }
 ],
 "metadata": {
  "kernelspec": {
   "display_name": "Python 3",
   "language": "python",
   "name": "python3"
  },
  "language_info": {
   "codemirror_mode": {
    "name": "ipython",
    "version": 3
   },
   "file_extension": ".py",
   "mimetype": "text/x-python",
   "name": "python",
   "nbconvert_exporter": "python",
   "pygments_lexer": "ipython3",
   "version": "3.7.3"
  }
 },
 "nbformat": 4,
 "nbformat_minor": 4
}
